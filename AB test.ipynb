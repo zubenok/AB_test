{
 "cells": [
  {
   "cell_type": "markdown",
   "id": "c89374cd",
   "metadata": {},
   "source": [
    "# Проектирование нашего эксперимента"
   ]
  },
  {
   "cell_type": "markdown",
   "id": "7ca11d63",
   "metadata": {},
   "source": [
    "Что текущий коэффициент конверсии составляет в среднем около 13% в течение года, и что команда будет довольна увеличением на 2%, а это означает, что новый дизайн будет считаться успешным, если он повысит коэффициент конверсии до 15%.\n",
    "\n",
    "1) ГИПОТЕЗА:  внедрив новый дизайн страницы, мы увеличим конверсию в покупку на  2%.\n",
    "\n",
    "Учитывая, что мы не знаем, будет ли новый дизайн работать лучше или хуже (или так же?), как наш текущий дизайн, мы выберем двусторонний тест:\n",
    "Hₒ: p = pₒ\n",
    "Hₐ: p ≠ pₒ\n",
    "\n",
    "α = 0.05\n",
    "β = 0.8\n",
    "\n",
    "2) Для нашего теста нам понадобятся две группы:\n",
    "Группа  control - им будет показан старый дизайн\n",
"\n",
    "Группа treatment (или тестовая) - им будет показан новый дизайн\n",
"\n",
    "\n",
    "3) МЕТРИКА: коэффициент конверсии\n",
"\n",
    "В данных - conversion rate:\n",
"\n",
    "0 - Пользователь не покупал продукт во время этой пользовательской сессии\n",
"\n",
    "1 - Пользователь купил продукт во время этой пользовательской сессии\n",
    "\n",
    "4) ЕДИНИЦА РАНДОМИЗАЦИИ: пользователи\n"
   ]
  },
  {
   "cell_type": "markdown",
   "id": "c4797af4",
   "metadata": {},
   "source": [
    "# Сбор и подготовка данных"
   ]
  },
  {
   "cell_type": "code",
   "execution_count": 84,
   "id": "e53da36d",
   "metadata": {},
   "outputs": [
    {
     "name": "stdout",
     "output_type": "stream",
     "text": [
      "Объем выборки =  4720\n"
     ]
    }
   ],
   "source": [
    "import numpy as np\n",
    "import pandas as pd\n",
    "import scipy.stats as stats\n",
    "import statsmodels.stats.api as sms\n",
    "import matplotlib as mpl\n",
    "import matplotlib.pyplot as plt\n",
    "import seaborn as sns\n",
    "from math import ceil\n",
    "\n",
    "effect_size = sms.proportion_effectsize(0.13, 0.15)    #вычисляем cohen's d (размер эффекта)\n",
    "\n",
    "required_n = sms.NormalIndPower().solve_power(         #вычисляем обьем выборок\n",
    "    effect_size, \n",
    "    power=0.8, \n",
    "    alpha=0.05, \n",
    "    ratio=1\n",
    "    )                                                 \n",
    "\n",
    "required_n = ceil(required_n)                                                    \n",
    "\n",
    "print(\"Объем выборки = \", required_n)"
   ]
  },
  {
   "cell_type": "code",
   "execution_count": 33,
   "id": "c399177c",
   "metadata": {},
   "outputs": [
    {
     "name": "stdout",
     "output_type": "stream",
     "text": [
      "<class 'pandas.core.frame.DataFrame'>\n",
      "RangeIndex: 294478 entries, 0 to 294477\n",
      "Data columns (total 5 columns):\n",
      " #   Column        Non-Null Count   Dtype \n",
      "---  ------        --------------   ----- \n",
      " 0   user_id       294478 non-null  int64 \n",
      " 1   timestamp     294478 non-null  object\n",
      " 2   group         294478 non-null  object\n",
      " 3   landing_page  294478 non-null  object\n",
      " 4   converted     294478 non-null  int64 \n",
      "dtypes: int64(2), object(3)\n",
      "memory usage: 11.2+ MB\n"
     ]
    }
   ],
   "source": [
    "df = pd.read_csv('downloads/ab_data.csv')  #считываем данные\n",
    "\n",
    "df.info()"
   ]
  },
  {
   "cell_type": "code",
   "execution_count": 87,
   "id": "0db5462c",
   "metadata": {},
   "outputs": [],
   "source": [
    "df['count'] = df['user_id'].map(df['user_id'].value_counts())  #выводим сколько раз встречается в таблице каждый user_id\n",
    "df = df.drop(df[df['count'] > 1].index) #удаляем user_id, которые встречаются больше 1-ого раза\n"
   ]
  },
  {
   "cell_type": "code",
   "execution_count": 135,
   "id": "dd4066e5",
   "metadata": {},
   "outputs": [],
   "source": [
    "#создаем две рандомных выборки с помощью sample (выборки контроля и теста)\n",
    "df_control_sample = df[df[\"group\"] == 'control'].sample(n = required_n, replace=True)\n",
    "df_treatment_sample = df[df[\"group\"] == 'treatment'].sample(n = required_n , replace=True)"
   ]
  },
  {
   "cell_type": "markdown",
   "id": "0a2cfa0e",
   "metadata": {},
   "source": [
    "# Проверка гипотезы"
   ]
  },
  {
   "cell_type": "markdown",
   "id": "24552536",
   "metadata": {},
   "source": [
    "Базовая статистика для контрольной выборки:"
   ]
  },
  {
   "cell_type": "code",
   "execution_count": 136,
   "id": "9ac0c631",
   "metadata": {
    "scrolled": true
   },
   "outputs": [
    {
     "name": "stdout",
     "output_type": "stream",
     "text": [
      "Стандартное отклонение = 0.321 , Стандартная ошибка = 0.005 , Коэффициент конверсии = 0.117\n"
     ]
    }
   ],
   "source": [
    "std_control = np.std(df_control_sample['converted'], ddof=0)   #Стандартное отклонение\n",
    "se_control = stats.sem(df_control_sample['converted'], ddof=0)  #Стандартная ошибка\n",
    "conversion_rate_control = df_control_sample['converted'].sum() / required_n   #Коэффициент конверсии\n",
    "print('Стандартное отклонение =', round(std_control, 3),',','Стандартная ошибка =', round(se_control, 3),',', 'Коэффициент конверсии =', round(conversion_rate_control, 3))\n"
   ]
  },
  {
   "cell_type": "markdown",
   "id": "47efc49d",
   "metadata": {},
   "source": [
    "Базовая статистика для тестовой выборки:"
   ]
  },
  {
   "cell_type": "code",
   "execution_count": 137,
   "id": "cdd429c9",
   "metadata": {},
   "outputs": [
    {
     "name": "stdout",
     "output_type": "stream",
     "text": [
      "Стандартное отклонение = 0.328 , Стандартная ошибка = 0.005 , Коэффициент конверсии = 0.123\n"
     ]
    }
   ],
   "source": [
    "std_treatment = np.std(df_treatment_sample['converted'], ddof=0)   #Стандартное отклонение\n",
    "se_treatment = stats.sem(df_treatment_sample['converted'], ddof=0)    #Стандартная ошибка\n",
    "conversion_rate_treatment = df_treatment_sample['converted'].sum() / required_n    #Коэффициент конверсии\n",
    "print('Стандартное отклонение =', round(std_treatment, 3),',','Стандартная ошибка =', round(se_treatment, 3),',', 'Коэффициент конверсии =', round(conversion_rate_treatment, 3))\n"
   ]
  },
  {
   "cell_type": "markdown",
   "id": "0bfc8703",
   "metadata": {},
   "source": [
    "Конверсия в тестовой группе немного выше, является ли эта разница статистически значимой?"
   ]
  },
  {
   "cell_type": "markdown",
   "id": "e16ebb22",
   "metadata": {},
   "source": [
    "Для показателей конверсии используем z-тест для двух пропорций:"
   ]
  },
  {
   "cell_type": "code",
   "execution_count": 138,
   "id": "ec959e7c",
   "metadata": {},
   "outputs": [
    {
     "name": "stdout",
     "output_type": "stream",
     "text": [
      "Доверительный интервал для treatment: (0.113, 0.132)\n",
      "stat=-0.888, p=0.375\n",
      "Пропорции не имеют статистически значимые различия\n"
     ]
    }
   ],
   "source": [
    "from statsmodels.stats.proportion import proportions_ztest, proportion_confint\n",
    "\n",
    "\n",
    "# Данные для первой выборки\n",
    "successes1 = conversion_rate_control * required_n\n",
    "nobs1 = required_n\n",
    "\n",
    "# Данные для второй выборки\n",
    "successes2 = conversion_rate_treatment * required_n\n",
    "nobs2 = required_n\n",
    "\n",
    "# Выполнение z-теста\n",
    "count = [successes1, successes2]\n",
    "nobs = [nobs1, nobs2]\n",
    "stat, pval = proportions_ztest(count, nobs)\n",
    "\n",
    "# Вычисление доверительного интервала\n",
    "ci_low, ci_upp = proportion_confint(successes2, nobs2)\n",
    "\n",
    "# Вывод результатов\n",
    "print('Доверительный интервал для treatment: ({:.3f}, {:.3f})'.format(ci_low, ci_upp))\n",
    "\n",
    "# Вывод результатов\n",
    "print('stat=%.3f, p=%.3f' % (stat, pval))\n",
    "if pval > 0.05:\n",
    "    print('Пропорции не имеют статистически значимые различия')\n",
    "else:\n",
    "    print('Пропорции имеют статистически значимые различия')\n",
    "\n"
   ]
  },
  {
   "cell_type": "markdown",
   "id": "b0af256e",
   "metadata": {},
   "source": [
    "# Выводы"
   ]
  },
  {
   "cell_type": "markdown",
   "id": "52ea713a",
   "metadata": {},
   "source": [
    "Поскольку наше p-значение намного выше нашего порога α = 0,05, мы не можем отвергнуть нулевую гипотезу H-, что означает, что наш новый дизайн не работал значительно иначе, чем наш старый.\n",
    "\n",
    "Кроме того, если мы посмотрим на доверительный интервал для группы treatment (0.113, 0.132) или 11,3-13,2%), мы заметим, что:\n",
    "\n",
    "Он включает в себя наше базовое значение коэффициента конверсии 13%\n",
    "Он не включает наше целевое значение в 15% (рост на 2%, к которому мы стремились)\n",
    "Это означает, что более вероятно, что истинный коэффициент конверсии нового дизайна аналогичен нашему базовому уровню, а не целевому показателю в 15%, на который мы надеялись. "
   ]
  }
 ],
 "metadata": {
  "kernelspec": {
   "display_name": "Python 3 (ipykernel)",
   "language": "python",
   "name": "python3"
  },
  "language_info": {
   "codemirror_mode": {
    "name": "ipython",
    "version": 3
   },
   "file_extension": ".py",
   "mimetype": "text/x-python",
   "name": "python",
   "nbconvert_exporter": "python",
   "pygments_lexer": "ipython3",
   "version": "3.10.9"
  }
 },
 "nbformat": 4,
 "nbformat_minor": 5
}
